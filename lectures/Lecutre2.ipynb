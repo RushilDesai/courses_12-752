{
 "metadata": {
  "name": "",
  "signature": "sha256:ddca3a399dc9b718c6220b74082c20c592b234540e88e59c01bfd2a7b8f85dc0"
 },
 "nbformat": 3,
 "nbformat_minor": 0,
 "worksheets": [
  {
   "cells": [
    {
     "cell_type": "markdown",
     "metadata": {},
     "source": [
      "#Lecture \\#2: Setting up your Development Environment"
     ]
    },
    {
     "cell_type": "markdown",
     "metadata": {},
     "source": [
      "Here is what I intend to cover today:\n",
      "\n",
      "* Python Basics\n",
      "* What is Interactive Python (IPython)?\n",
      "* What are IPython Notebooks?\n",
      "* What are Hosted IPython Notebooks (like wakari.io)?\n",
      "* How do I make my code available to others (git)?\n",
      "* What is GitHub?\n",
      "\n",
      "At the end of this process, I would like for each of you to be able to create an IPython Notebook locally on your computer, edit it on Wakari.io, and then be able to allow anyone else to see it using GitHub's IPython Notebook Viewer.\n",
      "\n",
      "This very same file we have on the screen now will make that journey.\n"
     ]
    },
    {
     "cell_type": "code",
     "collapsed": false,
     "input": [],
     "language": "python",
     "metadata": {},
     "outputs": []
    }
   ],
   "metadata": {}
  }
 ]
}