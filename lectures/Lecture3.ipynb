{
 "metadata": {
  "name": "",
  "signature": "sha256:93e4a905d434c2cc6f8bd4d396227933706c6f565593a5e20b6c5c339002ebc1"
 },
 "nbformat": 3,
 "nbformat_minor": 0,
 "worksheets": [
  {
   "cells": [
    {
     "cell_type": "heading",
     "level": 1,
     "metadata": {},
     "source": [
      "Lecture \\#3"
     ]
    },
    {
     "cell_type": "markdown",
     "metadata": {},
     "source": [
      "These notes are supplementary material to the slides for this lecture. In here I will discuss tangential topics that are easier to explore using a scientific computing environment."
     ]
    },
    {
     "cell_type": "heading",
     "level": 2,
     "metadata": {},
     "source": [
      "A side note on exponential growth models"
     ]
    },
    {
     "cell_type": "markdown",
     "metadata": {},
     "source": [
      "You will notice that the paper we read this week has many references to the rate at which energy demand is increasing in different parts of the world or for different sectors of the economy. Given this, I thought it would be appropriate to ensure that we all know what exactly does exponential growth mean."
     ]
    },
    {
     "cell_type": "markdown",
     "metadata": {},
     "source": [
      "Let $e_n$ be the energy demand at a discrete time $n$. Exponential growth at a rate of $r$ means that for time $n+1$ we have:\n",
      "\n",
      "$e_{n+1} = (1 + r) \\times e_n$\n",
      "\n",
      "And more generally, at time $n + p$ (i.e., p time intervals later) we have:\n",
      "\n",
      "$e_{n+1} = (1 + r)^p \\times e_n$\n",
      "\n",
      "Here, $r$ is the rate of growth, expressed as a percentage."
     ]
    },
    {
     "cell_type": "markdown",
     "metadata": {},
     "source": [
      "Let's declare a function that implements this formula so that we can play with it."
     ]
    },
    {
     "cell_type": "code",
     "collapsed": false,
     "input": [
      "def expgrowth(e_n, r, p):\n",
      "    return ((1+r)**p)*e_n"
     ],
     "language": "python",
     "metadata": {},
     "outputs": [],
     "prompt_number": 5
    },
    {
     "cell_type": "markdown",
     "metadata": {},
     "source": [
      "Now let's use that function with some values. Say, for instance, that the current demand is 3,000 MWh and it will grow at an annual rate of 3.2% as it does for emerging economies. When will this value double?\n",
      "\n",
      "First, let's just test one number to make sure that the function works. Let's test for $p = 50$"
     ]
    },
    {
     "cell_type": "code",
     "collapsed": false,
     "input": [
      "print expgrowth(3000, 0.032, 50)"
     ],
     "language": "python",
     "metadata": {},
     "outputs": [
      {
       "output_type": "stream",
       "stream": "stdout",
       "text": [
        "14491.2590228\n"
       ]
      }
     ],
     "prompt_number": 15
    },
    {
     "cell_type": "markdown",
     "metadata": {},
     "source": [
      "So, as we can see, the solution is definitely below $p = 50$, and certainly above $p = 1$, but where exactly is it?\n",
      "\n",
      "As we explained in class, there are a number of ways to solve this problem. I want to walk you through one particular approach in which we cast the problem as an optimization program (albeit a very simple one) and solve it using an optimization package in the **scipy** library."
     ]
    },
    {
     "cell_type": "markdown",
     "metadata": {},
     "source": [
      "First, let's declare a new function that returns the absolute value of the difference between $e_{n+p}$ and $2 e_n$ . This function will be zero when the two terms are equal to each other, which is exactly what we are interested in."
     ]
    },
    {
     "cell_type": "code",
     "collapsed": false,
     "input": [
      "def doublediff(e_n,r,p):\n",
      "   return abs(expgrowth(e_n,r,p) - 2*e_n)"
     ],
     "language": "python",
     "metadata": {},
     "outputs": [],
     "prompt_number": 47
    },
    {
     "cell_type": "markdown",
     "metadata": {},
     "source": [
      "Now, let's import the optimization package:"
     ]
    },
    {
     "cell_type": "code",
     "collapsed": false,
     "input": [
      "from scipy import optimize as opt"
     ],
     "language": "python",
     "metadata": {},
     "outputs": [],
     "prompt_number": 17
    },
    {
     "cell_type": "markdown",
     "metadata": {},
     "source": [
      "What functions does it have?"
     ]
    },
    {
     "cell_type": "code",
     "collapsed": false,
     "input": [
      "info(opt)"
     ],
     "language": "python",
     "metadata": {},
     "outputs": [
      {
       "output_type": "stream",
       "stream": "stdout",
       "text": [
        "=====================================================\n",
        "Optimization and root finding (:mod:`scipy.optimize`)\n",
        "=====================================================\n",
        "\n",
        ".. currentmodule:: scipy.optimize\n",
        "\n",
        "Optimization\n",
        "============\n",
        "\n",
        "General-purpose\n",
        "---------------\n",
        "\n",
        ".. autosummary::\n",
        "   :toctree: generated/\n",
        "\n",
        "   minimize - Unified interface for minimizers of multivariate functions\n",
        "   fmin - Nelder-Mead Simplex algorithm\n",
        "   fmin_powell - Powell's (modified) level set method\n",
        "   fmin_cg - Non-linear (Polak-Ribiere) conjugate gradient algorithm\n",
        "   fmin_bfgs - Quasi-Newton method (Broydon-Fletcher-Goldfarb-Shanno)\n",
        "   fmin_ncg - Line-search Newton Conjugate Gradient\n",
        "   leastsq - Minimize the sum of squares of M equations in N unknowns\n",
        "\n",
        "Constrained (multivariate)\n",
        "--------------------------\n",
        "\n",
        ".. autosummary::\n",
        "   :toctree: generated/\n",
        "\n",
        "   fmin_l_bfgs_b - Zhu, Byrd, and Nocedal's constrained optimizer\n",
        "   fmin_tnc - Truncated Newton code\n",
        "   fmin_cobyla - Constrained optimization by linear approximation\n",
        "   fmin_slsqp - Minimization using sequential least-squares programming\n",
        "   nnls - Linear least-squares problem with non-negativity constraint\n",
        "\n",
        "Global\n",
        "------\n",
        "\n",
        ".. autosummary::\n",
        "   :toctree: generated/\n",
        "\n",
        "   anneal - Simulated annealing\n",
        "   basinhopping - Basinhopping stochastic optimizer\n",
        "   brute - Brute force searching optimizer\n",
        "\n",
        "Scalar function minimizers\n",
        "--------------------------\n",
        "\n",
        ".. autosummary::\n",
        "   :toctree: generated/\n",
        "\n",
        "   minimize_scalar - Unified interface for minimizers of univariate functions\n",
        "   fminbound - Bounded minimization of a scalar function\n",
        "   brent - 1-D function minimization using Brent method\n",
        "   golden - 1-D function minimization using Golden Section method\n",
        "   bracket - Bracket a minimum, given two starting points\n",
        "\n",
        "Rosenbrock function\n",
        "-------------------\n",
        "\n",
        ".. autosummary::\n",
        "   :toctree: generated/\n",
        "\n",
        "   rosen - The Rosenbrock function.\n",
        "   rosen_der - The derivative of the Rosenbrock function.\n",
        "   rosen_hess - The Hessian matrix of the Rosenbrock function.\n",
        "   rosen_hess_prod - Product of the Rosenbrock Hessian with a vector.\n",
        "\n",
        "Fitting\n",
        "=======\n",
        "\n",
        ".. autosummary::\n",
        "   :toctree: generated/\n",
        "\n",
        "   curve_fit -- Fit curve to a set of points\n",
        "\n",
        "Root finding\n",
        "============\n",
        "\n",
        "Scalar functions\n",
        "----------------\n",
        ".. autosummary::\n",
        "   :toctree: generated/\n",
        "\n",
        "   brentq - quadratic interpolation Brent method\n",
        "   brenth - Brent method, modified by Harris with hyperbolic extrapolation\n",
        "   ridder - Ridder's method\n",
        "   bisect - Bisection method\n",
        "   newton - Secant method or Newton's method\n",
        "\n",
        "Fixed point finding:\n",
        "\n",
        ".. autosummary::\n",
        "   :toctree: generated/\n",
        "\n",
        "   fixed_point - Single-variable fixed-point solver\n",
        "\n",
        "Multidimensional\n",
        "----------------\n",
        "\n",
        "General nonlinear solvers:\n",
        "\n",
        ".. autosummary::\n",
        "   :toctree: generated/\n",
        "\n",
        "   root - Unified interface for nonlinear solvers of multivariate functions\n",
        "   fsolve - Non-linear multi-variable equation solver\n",
        "   broyden1 - Broyden's first method\n",
        "   broyden2 - Broyden's second method\n",
        "\n",
        "Large-scale nonlinear solvers:\n",
        "\n",
        ".. autosummary::\n",
        "   :toctree: generated/\n",
        "\n",
        "   newton_krylov\n",
        "   anderson\n",
        "\n",
        "Simple iterations:\n",
        "\n",
        ".. autosummary::\n",
        "   :toctree: generated/\n",
        "\n",
        "   excitingmixing\n",
        "   linearmixing\n",
        "   diagbroyden\n",
        "\n",
        ":mod:`Additional information on the nonlinear solvers <scipy.optimize.nonlin>`\n",
        "\n",
        "Utility Functions\n",
        "=================\n",
        "\n",
        ".. autosummary::\n",
        "   :toctree: generated/\n",
        "\n",
        "   line_search - Return a step that satisfies the strong Wolfe conditions\n",
        "   check_grad - Check the supplied derivative using finite differences\n",
        "\n",
        "   show_options - Show specific options optimization solvers\n"
       ]
      }
     ],
     "prompt_number": 18
    },
    {
     "cell_type": "markdown",
     "metadata": {},
     "source": [
      "From that list, the *minimize* function looks interesting. Let's find out more about it:"
     ]
    },
    {
     "cell_type": "code",
     "collapsed": false,
     "input": [
      "info(opt.minimize)"
     ],
     "language": "python",
     "metadata": {},
     "outputs": [
      {
       "output_type": "stream",
       "stream": "stdout",
       "text": [
        " minimize(fun, x0, args=(), method='BFGS', jac=None, hess=None, hessp=None,\n",
        "          bounds=None, constraints=(), tol=None, callback=None, options=None)\n",
        "\n",
        "Minimization of scalar function of one or more variables.\n",
        "\n",
        ".. versionadded:: 0.11.0\n",
        "\n",
        "Parameters\n",
        "----------\n",
        "fun : callable\n",
        "    Objective function.\n",
        "x0 : ndarray\n",
        "    Initial guess.\n",
        "args : tuple, optional\n",
        "    Extra arguments passed to the objective function and its\n",
        "    derivatives (Jacobian, Hessian).\n",
        "method : str, optional\n",
        "    Type of solver.  Should be one of\n",
        "\n",
        "        - 'Nelder-Mead'\n",
        "        - 'Powell'\n",
        "        - 'CG'\n",
        "        - 'BFGS'\n",
        "        - 'Newton-CG'\n",
        "        - 'Anneal'\n",
        "        - 'L-BFGS-B'\n",
        "        - 'TNC'\n",
        "        - 'COBYLA'\n",
        "        - 'SLSQP'\n",
        "        - 'dogleg'\n",
        "        - 'trust-ncg'\n",
        "\n",
        "jac : bool or callable, optional\n",
        "    Jacobian of objective function. Only for CG, BFGS, Newton-CG,\n",
        "    dogleg, trust-ncg.\n",
        "    If `jac` is a Boolean and is True, `fun` is assumed to return the\n",
        "    value of Jacobian along with the objective function. If False, the\n",
        "    Jacobian will be estimated numerically.\n",
        "    `jac` can also be a callable returning the Jacobian of the\n",
        "    objective. In this case, it must accept the same arguments as `fun`.\n",
        "hess, hessp : callable, optional\n",
        "    Hessian of objective function or Hessian of objective function\n",
        "    times an arbitrary vector p.  Only for Newton-CG,\n",
        "    dogleg, trust-ncg.\n",
        "    Only one of `hessp` or `hess` needs to be given.  If `hess` is\n",
        "    provided, then `hessp` will be ignored.  If neither `hess` nor\n",
        "    `hessp` is provided, then the hessian product will be approximated\n",
        "    using finite differences on `jac`. `hessp` must compute the Hessian\n",
        "    times an arbitrary vector.\n",
        "bounds : sequence, optional\n",
        "    Bounds for variables (only for L-BFGS-B, TNC and SLSQP).\n",
        "    ``(min, max)`` pairs for each element in ``x``, defining\n",
        "    the bounds on that parameter. Use None for one of ``min`` or\n",
        "    ``max`` when there is no bound in that direction.\n",
        "constraints : dict or sequence of dict, optional\n",
        "    Constraints definition (only for COBYLA and SLSQP).\n",
        "    Each constraint is defined in a dictionary with fields:\n",
        "        type : str\n",
        "            Constraint type: 'eq' for equality, 'ineq' for inequality.\n",
        "        fun : callable\n",
        "            The function defining the constraint.\n",
        "        jac : callable, optional\n",
        "            The Jacobian of `fun` (only for SLSQP).\n",
        "        args : sequence, optional\n",
        "            Extra arguments to be passed to the function and Jacobian.\n",
        "    Equality constraint means that the constraint function result is to\n",
        "    be zero whereas inequality means that it is to be non-negative.\n",
        "    Note that COBYLA only supports inequality constraints.\n",
        "tol : float, optional\n",
        "    Tolerance for termination. For detailed control, use solver-specific\n",
        "    options.\n",
        "options : dict, optional\n",
        "    A dictionary of solver options. All methods accept the following\n",
        "    generic options:\n",
        "        maxiter : int\n",
        "            Maximum number of iterations to perform.\n",
        "        disp : bool\n",
        "            Set to True to print convergence messages.\n",
        "    For method-specific options, see `show_options('minimize', method)`.\n",
        "callback : callable, optional\n",
        "    Called after each iteration, as ``callback(xk)``, where ``xk`` is the\n",
        "    current parameter vector.\n",
        "\n",
        "Returns\n",
        "-------\n",
        "res : Result\n",
        "    The optimization result represented as a ``Result`` object.\n",
        "    Important attributes are: ``x`` the solution array, ``success`` a\n",
        "    Boolean flag indicating if the optimizer exited successfully and\n",
        "    ``message`` which describes the cause of the termination. See\n",
        "    `Result` for a description of other attributes.\n",
        "\n",
        "\n",
        "See also\n",
        "--------\n",
        "minimize_scalar: Interface to minimization algorithms for scalar\n",
        "    univariate functions.\n",
        "\n",
        "Notes\n",
        "-----\n",
        "This section describes the available solvers that can be selected by the\n",
        "'method' parameter. The default method is *BFGS*.\n",
        "\n",
        "**Unconstrained minimization**\n",
        "\n",
        "Method *Nelder-Mead* uses the Simplex algorithm [1]_, [2]_. This\n",
        "algorithm has been successful in many applications but other algorithms\n",
        "using the first and/or second derivatives information might be preferred\n",
        "for their better performances and robustness in general.\n",
        "\n",
        "Method *Powell* is a modification of Powell's method [3]_, [4]_ which\n",
        "is a conjugate direction method. It performs sequential one-dimensional\n",
        "minimizations along each vector of the directions set (`direc` field in\n",
        "`options` and `info`), which is updated at each iteration of the main\n",
        "minimization loop. The function need not be differentiable, and no\n",
        "derivatives are taken.\n",
        "\n",
        "Method *CG* uses a nonlinear conjugate gradient algorithm by Polak and\n",
        "Ribiere, a variant of the Fletcher-Reeves method described in [5]_ pp.\n",
        "120-122. Only the first derivatives are used.\n",
        "\n",
        "Method *BFGS* uses the quasi-Newton method of Broyden, Fletcher,\n",
        "Goldfarb, and Shanno (BFGS) [5]_ pp. 136. It uses the first derivatives\n",
        "only. BFGS has proven good performance even for non-smooth\n",
        "optimizations. This method also returns an approximation of the Hessian\n",
        "inverse, stored as `hess_inv` in the Result object.\n",
        "\n",
        "Method *Newton-CG* uses a Newton-CG algorithm [5]_ pp. 168 (also known\n",
        "as the truncated Newton method). It uses a CG method to the compute the\n",
        "search direction. See also *TNC* method for a box-constrained\n",
        "minimization with a similar algorithm.\n",
        "\n",
        "Method *Anneal* uses simulated annealing, which is a probabilistic\n",
        "metaheuristic algorithm for global optimization. It uses no derivative\n",
        "information from the function being optimized.\n",
        "\n",
        "Method *dogleg* uses the dog-leg trust-region algorithm [5]_\n",
        "for unconstrained minimization. This algorithm requires the gradient\n",
        "and Hessian; furthermore the Hessian is required to be positive definite.\n",
        "\n",
        "Method *trust-ncg* uses the Newton conjugate gradient trust-region\n",
        "algorithm [5]_ for unconstrained minimization. This algorithm requires\n",
        "the gradient and either the Hessian or a function that computes the\n",
        "product of the Hessian with a given vector.\n",
        "\n",
        "**Constrained minimization**\n",
        "\n",
        "Method *L-BFGS-B* uses the L-BFGS-B algorithm [6]_, [7]_ for bound\n",
        "constrained minimization.\n",
        "\n",
        "Method *TNC* uses a truncated Newton algorithm [5]_, [8]_ to minimize a\n",
        "function with variables subject to bounds. This algorithm uses\n",
        "gradient information; it is also called Newton Conjugate-Gradient. It\n",
        "differs from the *Newton-CG* method described above as it wraps a C\n",
        "implementation and allows each variable to be given upper and lower\n",
        "bounds.\n",
        "\n",
        "Method *COBYLA* uses the Constrained Optimization BY Linear\n",
        "Approximation (COBYLA) method [9]_, [10]_, [11]_. The algorithm is\n",
        "based on linear approximations to the objective function and each\n",
        "constraint. The method wraps a FORTRAN implementation of the algorithm.\n",
        "\n",
        "Method *SLSQP* uses Sequential Least SQuares Programming to minimize a\n",
        "function of several variables with any combination of bounds, equality\n",
        "and inequality constraints. The method wraps the SLSQP Optimization\n",
        "subroutine originally implemented by Dieter Kraft [12]_.\n",
        "\n",
        "References\n",
        "----------\n",
        ".. [1] Nelder, J A, and R Mead. 1965. A Simplex Method for Function\n",
        "    Minimization. The Computer Journal 7: 308-13.\n",
        ".. [2] Wright M H. 1996. Direct search methods: Once scorned, now\n",
        "    respectable, in Numerical Analysis 1995: Proceedings of the 1995\n",
        "    Dundee Biennial Conference in Numerical Analysis (Eds. D F\n",
        "    Griffiths and G A Watson). Addison Wesley Longman, Harlow, UK.\n",
        "    191-208.\n",
        ".. [3] Powell, M J D. 1964. An efficient method for finding the minimum of\n",
        "   a function of several variables without calculating derivatives. The\n",
        "   Computer Journal 7: 155-162.\n",
        ".. [4] Press W, S A Teukolsky, W T Vetterling and B P Flannery.\n",
        "   Numerical Recipes (any edition), Cambridge University Press.\n",
        ".. [5] Nocedal, J, and S J Wright. 2006. Numerical Optimization.\n",
        "   Springer New York.\n",
        ".. [6] Byrd, R H and P Lu and J. Nocedal. 1995. A Limited Memory\n",
        "   Algorithm for Bound Constrained Optimization. SIAM Journal on\n",
        "   Scientific and Statistical Computing 16 (5): 1190-1208.\n",
        ".. [7] Zhu, C and R H Byrd and J Nocedal. 1997. L-BFGS-B: Algorithm\n",
        "   778: L-BFGS-B, FORTRAN routines for large scale bound constrained\n",
        "   optimization. ACM Transactions on Mathematical Software 23 (4):\n",
        "   550-560.\n",
        ".. [8] Nash, S G. Newton-Type Minimization Via the Lanczos Method.\n",
        "   1984. SIAM Journal of Numerical Analysis 21: 770-778.\n",
        ".. [9] Powell, M J D. A direct search optimization method that models\n",
        "   the objective and constraint functions by linear interpolation.\n",
        "   1994. Advances in Optimization and Numerical Analysis, eds. S. Gomez\n",
        "   and J-P Hennart, Kluwer Academic (Dordrecht), 51-67.\n",
        ".. [10] Powell M J D. Direct search algorithms for optimization\n",
        "   calculations. 1998. Acta Numerica 7: 287-336.\n",
        ".. [11] Powell M J D. A view of algorithms for optimization without\n",
        "   derivatives. 2007.Cambridge University Technical Report DAMTP\n",
        "   2007/NA03\n",
        ".. [12] Kraft, D. A software package for sequential quadratic\n",
        "   programming. 1988. Tech. Rep. DFVLR-FB 88-28, DLR German Aerospace\n",
        "   Center -- Institute for Flight Mechanics, Koln, Germany.\n",
        "\n",
        "Examples\n",
        "--------\n",
        "Let us consider the problem of minimizing the Rosenbrock function. This\n",
        "function (and its respective derivatives) is implemented in `rosen`\n",
        "(resp. `rosen_der`, `rosen_hess`) in the `scipy.optimize`.\n",
        "\n",
        ">>> from scipy.optimize import minimize, rosen, rosen_der\n",
        "\n",
        "A simple application of the *Nelder-Mead* method is:\n",
        "\n",
        ">>> x0 = [1.3, 0.7, 0.8, 1.9, 1.2]\n",
        ">>> res = minimize(rosen, x0, method='Nelder-Mead')\n",
        ">>> res.x\n",
        "[ 1.  1.  1.  1.  1.]\n",
        "\n",
        "Now using the *BFGS* algorithm, using the first derivative and a few\n",
        "options:\n",
        "\n",
        ">>> res = minimize(rosen, x0, method='BFGS', jac=rosen_der,\n",
        "...                options={'gtol': 1e-6, 'disp': True})\n",
        "Optimization terminated successfully.\n",
        "         Current function value: 0.000000\n",
        "         Iterations: 52\n",
        "         Function evaluations: 64\n",
        "         Gradient evaluations: 64\n",
        ">>> res.x\n",
        "[ 1.  1.  1.  1.  1.]\n",
        ">>> print res.message\n",
        "Optimization terminated successfully.\n",
        ">>> res.hess\n",
        "[[ 0.00749589  0.01255155  0.02396251  0.04750988  0.09495377]\n",
        " [ 0.01255155  0.02510441  0.04794055  0.09502834  0.18996269]\n",
        " [ 0.02396251  0.04794055  0.09631614  0.19092151  0.38165151]\n",
        " [ 0.04750988  0.09502834  0.19092151  0.38341252  0.7664427 ]\n",
        " [ 0.09495377  0.18996269  0.38165151  0.7664427   1.53713523]]\n",
        "\n",
        "\n",
        "Next, consider a minimization problem with several constraints (namely\n",
        "Example 16.4 from [5]_). The objective function is:\n",
        "\n",
        ">>> fun = lambda x: (x[0] - 1)**2 + (x[1] - 2.5)**2\n",
        "\n",
        "There are three constraints defined as:\n",
        "\n",
        ">>> cons = ({'type': 'ineq', 'fun': lambda x:  x[0] - 2 * x[1] + 2},\n",
        "...         {'type': 'ineq', 'fun': lambda x: -x[0] - 2 * x[1] + 6},\n",
        "...         {'type': 'ineq', 'fun': lambda x: -x[0] + 2 * x[1] + 2})\n",
        "\n",
        "And variables must be positive, hence the following bounds:\n",
        "\n",
        ">>> bnds = ((0, None), (0, None))\n",
        "\n",
        "The optimization problem is solved using the SLSQP method as:\n",
        "\n",
        ">>> res = minimize(fun, (2, 0), method='SLSQP', bounds=bnds,\n",
        "...                constraints=cons)\n",
        "\n",
        "It should converge to the theoretical solution (1.4 ,1.7).\n"
       ]
      }
     ],
     "prompt_number": 19
    },
    {
     "cell_type": "markdown",
     "metadata": {},
     "source": [
      "Well, that was a long documentation. The bottom line, though, is that it needs at least two inputs (the rest are optional), which are a function *fun* and a set of initial guesses *x0*. This last one, needs to be an **ndarray** with as many dimensions as there are variables to be optimized over. In our case, we only have a single variable, namely $p$. Let's create that ndarray:"
     ]
    },
    {
     "cell_type": "code",
     "collapsed": false,
     "input": [
      "import numpy as np  # Normally, we would do this at the beginning\n",
      "\n",
      "p0 = np.array([3])"
     ],
     "language": "python",
     "metadata": {},
     "outputs": [],
     "prompt_number": 34
    },
    {
     "cell_type": "markdown",
     "metadata": {},
     "source": [
      "Now, ideally we would just run:\n",
      "```\n",
      "    opt.minimize(doublediff,p0)\n",
      "```\n",
      "and be done with it. However, if you look carefully, we are trying to optimize an objective function (*doublediff*) that has 3 variables ($e_n$, $r$ and $p$), by only feeding it one initial guess for a single variable ($p0$). This won't work. \n",
      "\n",
      "Thus, we need to make our objective function more specific by providing it with the values we want for $e_n$ and $r$:"
     ]
    },
    {
     "cell_type": "code",
     "collapsed": false,
     "input": [
      "def objective(p0):\n",
      "    return doublediff(3000, 0.032, p0)"
     ],
     "language": "python",
     "metadata": {},
     "outputs": [],
     "prompt_number": 38
    },
    {
     "cell_type": "markdown",
     "metadata": {},
     "source": [
      "Now we can optimize (minimize) it:"
     ]
    },
    {
     "cell_type": "code",
     "collapsed": false,
     "input": [
      "opt.minimize(objective,p0)"
     ],
     "language": "python",
     "metadata": {},
     "outputs": [
      {
       "metadata": {},
       "output_type": "pyout",
       "prompt_number": 39,
       "text": [
        "   status: 0\n",
        "  success: True\n",
        "     njev: 21\n",
        "     nfev: 63\n",
        " hess_inv: array([[ 232869.54979428]])\n",
        "      fun: -5999.999741246641\n",
        "        x: array([-516.40289312])\n",
        "  message: 'Optimization terminated successfully.'\n",
        "      jac: array([ 0.])"
       ]
      }
     ],
     "prompt_number": 39
    },
    {
     "cell_type": "markdown",
     "metadata": {},
     "source": [
      "Well, not quite. If you notice, the optimization program we formulated did not take into account the fact that there are some constraints. For instance, $p > 1$ and we also know that $p < 50$. This is actually more formally known as a *bound*. How do we add that? Well, you can read the documentation above and look for bounds, but here's the answer:"
     ]
    },
    {
     "cell_type": "code",
     "collapsed": false,
     "input": [
      "opt.minimize(objective,p0,method='L-BFGS-B', bounds=[(1,50)])"
     ],
     "language": "python",
     "metadata": {},
     "outputs": [
      {
       "metadata": {},
       "output_type": "pyout",
       "prompt_number": 50,
       "text": [
        "  status: 2\n",
        " success: False\n",
        "    nfev: 97\n",
        "     fun: array([  7.44742465e-07])\n",
        "       x: array([ 22.00560357])\n",
        " message: 'ABNORMAL_TERMINATION_IN_LNSRCH'\n",
        "     jac: array([ 40.04359653])\n",
        "     nit: 6"
       ]
      }
     ],
     "prompt_number": 50
    },
    {
     "cell_type": "markdown",
     "metadata": {},
     "source": [
      "And there you have it, the answer is the value of *x* in the results above. Let's check it out:"
     ]
    },
    {
     "cell_type": "code",
     "collapsed": false,
     "input": [
      "expgrowth(3000,0.032,22.00560357)"
     ],
     "language": "python",
     "metadata": {},
     "outputs": [
      {
       "metadata": {},
       "output_type": "pyout",
       "prompt_number": 51,
       "text": [
        "5999.999998391946"
       ]
      }
     ],
     "prompt_number": 51
    },
    {
     "cell_type": "markdown",
     "metadata": {},
     "source": [
      "Pretty close!"
     ]
    },
    {
     "cell_type": "code",
     "collapsed": false,
     "input": [],
     "language": "python",
     "metadata": {},
     "outputs": []
    }
   ],
   "metadata": {}
  }
 ]
}